{
 "cells": [
  {
   "cell_type": "markdown",
   "metadata": {},
   "source": [
    "# Tutorial"
   ]
  },
  {
   "cell_type": "code",
   "execution_count": 1,
   "metadata": {},
   "outputs": [],
   "source": [
    "# call this cell first until we get this project on pip\n",
    "import sys\n",
    "sys.path.append('..')"
   ]
  },
  {
   "cell_type": "code",
   "execution_count": 3,
   "metadata": {},
   "outputs": [],
   "source": [
    "from pysat_kamodo import Pysat_Kamodo\n",
    "import pysat"
   ]
  },
  {
   "cell_type": "markdown",
   "metadata": {},
   "source": [
    "!!! note\n",
    "    pysat will notify you if it needs to set up default directories for the initial import"
   ]
  },
  {
   "cell_type": "markdown",
   "metadata": {},
   "source": [
    "## Instrument Initialization\n",
    "\n",
    "To initialize a pysat instrument, we require that a date be specified along with the usual pysat keyword arguments:"
   ]
  },
  {
   "cell_type": "code",
   "execution_count": 4,
   "metadata": {},
   "outputs": [
    {
     "name": "stdout",
     "output_type": "stream",
     "text": [
      "loaded .cnofs_vefi\n",
      "Returning cnofs vefi dc_b data for 01 January 2009\n"
     ]
    },
    {
     "data": {
      "text/latex": [
       "\\begin{equation}\\operatorname{B_{north}}{\\left(t \\right)} [nT] = \\lambda{\\left(t \\right)}\\end{equation}\\begin{equation}\\operatorname{B_{up}}{\\left(t \\right)} [nT] = \\lambda{\\left(t \\right)}\\end{equation}\\begin{equation}\\operatorname{B_{west}}{\\left(t \\right)} [nT] = \\lambda{\\left(t \\right)}\\end{equation}\\begin{equation}\\operatorname{B_{IGRF north}}{\\left(t \\right)} [nT] = \\lambda{\\left(t \\right)}\\end{equation}\\begin{equation}\\operatorname{B_{IGRF up}}{\\left(t \\right)} [nT] = \\lambda{\\left(t \\right)}\\end{equation}\\begin{equation}\\operatorname{B_{IGRF west}}{\\left(t \\right)} [nT] = \\lambda{\\left(t \\right)}\\end{equation}\\begin{equation}\\operatorname{latitude}{\\left(t \\right)} [degrees] = \\lambda{\\left(t \\right)}\\end{equation}\\begin{equation}\\operatorname{longitude}{\\left(t \\right)} [degrees] = \\lambda{\\left(t \\right)}\\end{equation}\\begin{equation}\\operatorname{altitude}{\\left(t \\right)} [km] = \\lambda{\\left(t \\right)}\\end{equation}\\begin{equation}\\operatorname{dB_{zon}}{\\left(t \\right)} [nT] = \\lambda{\\left(t \\right)}\\end{equation}\\begin{equation}\\operatorname{dB_{mer}}{\\left(t \\right)} [nT] = \\lambda{\\left(t \\right)}\\end{equation}\\begin{equation}\\operatorname{dB_{par}}{\\left(t \\right)} [nT] = \\lambda{\\left(t \\right)}\\end{equation}\\begin{equation}\\operatorname{year}{\\left(t \\right)} = \\lambda{\\left(t \\right)}\\end{equation}\\begin{equation}\\operatorname{dayofyear}{\\left(t \\right)} = \\lambda{\\left(t \\right)}\\end{equation}\\begin{equation}\\operatorname{B_{flag}}{\\left(t \\right)} = \\lambda{\\left(t \\right)}\\end{equation}"
      ],
      "text/plain": [
       "Pysat_Kamodo([(B_north(t),\n",
       "               <function B_north(t=DatetimeIndex(['2009-01-01 00:00:00', '2009-01-01 00:00:01',\n",
       "               '2009-01-01 00:00:02', '2009-01-01 00:00:03',\n",
       "               '2009-01-01 00:00:04', '2009-01-01 00:00:05',\n",
       "               '2009-01-01 00:00:06', '2009-01-01 00:00:07',\n",
       "               '2009-01-01 00:00:08', '2009-01-01 00:00:09',\n",
       "               ...\n",
       "               '2009-01-01 23:59:49', '2009-01-01 23:59:50',\n",
       "               '2009-01-01 23:59:51', '2009-01-01 23:59:52',\n",
       "               '2009-01-01 23:59:53', '2009-01-01 23:59:54',\n",
       "               '2009-01-01 23:59:55', '2009-01-01 23:59:56',\n",
       "               '2009-01-01 23:59:57', '2009-01-01 23:59:58'],\n",
       "              dtype='datetime64[ns]', length=80594, freq=None))>),\n",
       "              (B_north,\n",
       "               <function B_north(t=DatetimeIndex(['2009-01-01 00:00:00', '2009-01-01 00:00:01',\n",
       "               '2009-01-01 00:00:02', '2009-01-01 00:00:03',\n",
       "               '2009-01-01 00:00:04', '2009-01-01 00:00:05',\n",
       "               '2009-01-01 00:00:06', '2009-01-01 00:00:07',\n",
       "               '2009-01-01 00:00:08', '2009-01-01 00:00:09',\n",
       "               ...\n",
       "               '2009-01-01 23:59:49', '2009-01-01 23:59:50',\n",
       "               '2009-01-01 23:59:51', '2009-01-01 23:59:52',\n",
       "               '2009-01-01 23:59:53', '2009-01-01 23:59:54',\n",
       "               '2009-01-01 23:59:55', '2009-01-01 23:59:56',\n",
       "               '2009-01-01 23:59:57', '2009-01-01 23:59:58'],\n",
       "              dtype='datetime64[ns]', length=80594, freq=None))>),\n",
       "              (B_up(t),\n",
       "               <function B_up(t=DatetimeIndex(['2009-01-01 00:00:00', '2009-01-01 00:00:01',\n",
       "               '2009-01-01 00:00:02', '2009-01-01 00:00:03',\n",
       "               '2009-01-01 00:00:04', '2009-01-01 00:00:05',\n",
       "               '2009-01-01 00:00:06', '2009-01-01 00:00:07',\n",
       "               '2009-01-01 00:00:08', '2009-01-01 00:00:09',\n",
       "               ...\n",
       "               '2009-01-01 23:59:49', '2009-01-01 23:59:50',\n",
       "               '2009-01-01 23:59:51', '2009-01-01 23:59:52',\n",
       "               '2009-01-01 23:59:53', '2009-01-01 23:59:54',\n",
       "               '2009-01-01 23:59:55', '2009-01-01 23:59:56',\n",
       "               '2009-01-01 23:59:57', '2009-01-01 23:59:58'],\n",
       "              dtype='datetime64[ns]', length=80594, freq=None))>),\n",
       "              (B_up,\n",
       "               <function B_up(t=DatetimeIndex(['2009-01-01 00:00:00', '2009-01-01 00:00:01',\n",
       "               '2009-01-01 00:00:02', '2009-01-01 00:00:03',\n",
       "               '2009-01-01 00:00:04', '2009-01-01 00:00:05',\n",
       "               '2009-01-01 00:00:06', '2009-01-01 00:00:07',\n",
       "               '2009-01-01 00:00:08', '2009-01-01 00:00:09',\n",
       "               ...\n",
       "               '2009-01-01 23:59:49', '2009-01-01 23:59:50',\n",
       "               '2009-01-01 23:59:51', '2009-01-01 23:59:52',\n",
       "               '2009-01-01 23:59:53', '2009-01-01 23:59:54',\n",
       "               '2009-01-01 23:59:55', '2009-01-01 23:59:56',\n",
       "               '2009-01-01 23:59:57', '2009-01-01 23:59:58'],\n",
       "              dtype='datetime64[ns]', length=80594, freq=None))>),\n",
       "              (B_west(t),\n",
       "               <function B_west(t=DatetimeIndex(['2009-01-01 00:00:00', '2009-01-01 00:00:01',\n",
       "               '2009-01-01 00:00:02', '2009-01-01 00:00:03',\n",
       "               '2009-01-01 00:00:04', '2009-01-01 00:00:05',\n",
       "               '2009-01-01 00:00:06', '2009-01-01 00:00:07',\n",
       "               '2009-01-01 00:00:08', '2009-01-01 00:00:09',\n",
       "               ...\n",
       "               '2009-01-01 23:59:49', '2009-01-01 23:59:50',\n",
       "               '2009-01-01 23:59:51', '2009-01-01 23:59:52',\n",
       "               '2009-01-01 23:59:53', '2009-01-01 23:59:54',\n",
       "               '2009-01-01 23:59:55', '2009-01-01 23:59:56',\n",
       "               '2009-01-01 23:59:57', '2009-01-01 23:59:58'],\n",
       "              dtype='datetime64[ns]', length=80594, freq=None))>),\n",
       "              (B_west,\n",
       "               <function B_west(t=DatetimeIndex(['2009-01-01 00:00:00', '2009-01-01 00:00:01',\n",
       "               '2009-01-01 00:00:02', '2009-01-01 00:00:03',\n",
       "               '2009-01-01 00:00:04', '2009-01-01 00:00:05',\n",
       "               '2009-01-01 00:00:06', '2009-01-01 00:00:07',\n",
       "               '2009-01-01 00:00:08', '2009-01-01 00:00:09',\n",
       "               ...\n",
       "               '2009-01-01 23:59:49', '2009-01-01 23:59:50',\n",
       "               '2009-01-01 23:59:51', '2009-01-01 23:59:52',\n",
       "               '2009-01-01 23:59:53', '2009-01-01 23:59:54',\n",
       "               '2009-01-01 23:59:55', '2009-01-01 23:59:56',\n",
       "               '2009-01-01 23:59:57', '2009-01-01 23:59:58'],\n",
       "              dtype='datetime64[ns]', length=80594, freq=None))>),\n",
       "              (B_IGRF_north(t),\n",
       "               <function B_IGRF_north(t=DatetimeIndex(['2009-01-01 00:00:00', '2009-01-01 00:00:01',\n",
       "               '2009-01-01 00:00:02', '2009-01-01 00:00:03',\n",
       "               '2009-01-01 00:00:04', '2009-01-01 00:00:05',\n",
       "               '2009-01-01 00:00:06', '2009-01-01 00:00:07',\n",
       "               '2009-01-01 00:00:08', '2009-01-01 00:00:09',\n",
       "               ...\n",
       "               '2009-01-01 23:59:49', '2009-01-01 23:59:50',\n",
       "               '2009-01-01 23:59:51', '2009-01-01 23:59:52',\n",
       "               '2009-01-01 23:59:53', '2009-01-01 23:59:54',\n",
       "               '2009-01-01 23:59:55', '2009-01-01 23:59:56',\n",
       "               '2009-01-01 23:59:57', '2009-01-01 23:59:58'],\n",
       "              dtype='datetime64[ns]', length=80594, freq=None))>),\n",
       "              (B_IGRF_north,\n",
       "               <function B_IGRF_north(t=DatetimeIndex(['2009-01-01 00:00:00', '2009-01-01 00:00:01',\n",
       "               '2009-01-01 00:00:02', '2009-01-01 00:00:03',\n",
       "               '2009-01-01 00:00:04', '2009-01-01 00:00:05',\n",
       "               '2009-01-01 00:00:06', '2009-01-01 00:00:07',\n",
       "               '2009-01-01 00:00:08', '2009-01-01 00:00:09',\n",
       "               ...\n",
       "               '2009-01-01 23:59:49', '2009-01-01 23:59:50',\n",
       "               '2009-01-01 23:59:51', '2009-01-01 23:59:52',\n",
       "               '2009-01-01 23:59:53', '2009-01-01 23:59:54',\n",
       "               '2009-01-01 23:59:55', '2009-01-01 23:59:56',\n",
       "               '2009-01-01 23:59:57', '2009-01-01 23:59:58'],\n",
       "              dtype='datetime64[ns]', length=80594, freq=None))>),\n",
       "              (B_IGRF_up(t),\n",
       "               <function B_IGRF_up(t=DatetimeIndex(['2009-01-01 00:00:00', '2009-01-01 00:00:01',\n",
       "               '2009-01-01 00:00:02', '2009-01-01 00:00:03',\n",
       "               '2009-01-01 00:00:04', '2009-01-01 00:00:05',\n",
       "               '2009-01-01 00:00:06', '2009-01-01 00:00:07',\n",
       "               '2009-01-01 00:00:08', '2009-01-01 00:00:09',\n",
       "               ...\n",
       "               '2009-01-01 23:59:49', '2009-01-01 23:59:50',\n",
       "               '2009-01-01 23:59:51', '2009-01-01 23:59:52',\n",
       "               '2009-01-01 23:59:53', '2009-01-01 23:59:54',\n",
       "               '2009-01-01 23:59:55', '2009-01-01 23:59:56',\n",
       "               '2009-01-01 23:59:57', '2009-01-01 23:59:58'],\n",
       "              dtype='datetime64[ns]', length=80594, freq=None))>),\n",
       "              (B_IGRF_up,\n",
       "               <function B_IGRF_up(t=DatetimeIndex(['2009-01-01 00:00:00', '2009-01-01 00:00:01',\n",
       "               '2009-01-01 00:00:02', '2009-01-01 00:00:03',\n",
       "               '2009-01-01 00:00:04', '2009-01-01 00:00:05',\n",
       "               '2009-01-01 00:00:06', '2009-01-01 00:00:07',\n",
       "               '2009-01-01 00:00:08', '2009-01-01 00:00:09',\n",
       "               ...\n",
       "               '2009-01-01 23:59:49', '2009-01-01 23:59:50',\n",
       "               '2009-01-01 23:59:51', '2009-01-01 23:59:52',\n",
       "               '2009-01-01 23:59:53', '2009-01-01 23:59:54',\n",
       "               '2009-01-01 23:59:55', '2009-01-01 23:59:56',\n",
       "               '2009-01-01 23:59:57', '2009-01-01 23:59:58'],\n",
       "              dtype='datetime64[ns]', length=80594, freq=None))>),\n",
       "              (B_IGRF_west(t),\n",
       "               <function B_IGRF_west(t=DatetimeIndex(['2009-01-01 00:00:00', '2009-01-01 00:00:01',\n",
       "               '2009-01-01 00:00:02', '2009-01-01 00:00:03',\n",
       "               '2009-01-01 00:00:04', '2009-01-01 00:00:05',\n",
       "               '2009-01-01 00:00:06', '2009-01-01 00:00:07',\n",
       "               '2009-01-01 00:00:08', '2009-01-01 00:00:09',\n",
       "               ...\n",
       "               '2009-01-01 23:59:49', '2009-01-01 23:59:50',\n",
       "               '2009-01-01 23:59:51', '2009-01-01 23:59:52',\n",
       "               '2009-01-01 23:59:53', '2009-01-01 23:59:54',\n",
       "               '2009-01-01 23:59:55', '2009-01-01 23:59:56',\n",
       "               '2009-01-01 23:59:57', '2009-01-01 23:59:58'],\n",
       "              dtype='datetime64[ns]', length=80594, freq=None))>),\n",
       "              (B_IGRF_west,\n",
       "               <function B_IGRF_west(t=DatetimeIndex(['2009-01-01 00:00:00', '2009-01-01 00:00:01',\n",
       "               '2009-01-01 00:00:02', '2009-01-01 00:00:03',\n",
       "               '2009-01-01 00:00:04', '2009-01-01 00:00:05',\n",
       "               '2009-01-01 00:00:06', '2009-01-01 00:00:07',\n",
       "               '2009-01-01 00:00:08', '2009-01-01 00:00:09',\n",
       "               ...\n",
       "               '2009-01-01 23:59:49', '2009-01-01 23:59:50',\n",
       "               '2009-01-01 23:59:51', '2009-01-01 23:59:52',\n",
       "               '2009-01-01 23:59:53', '2009-01-01 23:59:54',\n",
       "               '2009-01-01 23:59:55', '2009-01-01 23:59:56',\n",
       "               '2009-01-01 23:59:57', '2009-01-01 23:59:58'],\n",
       "              dtype='datetime64[ns]', length=80594, freq=None))>),\n",
       "              (latitude(t),\n",
       "               <function latitude(t=DatetimeIndex(['2009-01-01 00:00:00', '2009-01-01 00:00:01',\n",
       "               '2009-01-01 00:00:02', '2009-01-01 00:00:03',\n",
       "               '2009-01-01 00:00:04', '2009-01-01 00:00:05',\n",
       "               '2009-01-01 00:00:06', '2009-01-01 00:00:07',\n",
       "               '2009-01-01 00:00:08', '2009-01-01 00:00:09',\n",
       "               ...\n",
       "               '2009-01-01 23:59:49', '2009-01-01 23:59:50',\n",
       "               '2009-01-01 23:59:51', '2009-01-01 23:59:52',\n",
       "               '2009-01-01 23:59:53', '2009-01-01 23:59:54',\n",
       "               '2009-01-01 23:59:55', '2009-01-01 23:59:56',\n",
       "               '2009-01-01 23:59:57', '2009-01-01 23:59:58'],\n",
       "              dtype='datetime64[ns]', length=80594, freq=None))>),\n",
       "              (latitude,\n",
       "               <function latitude(t=DatetimeIndex(['2009-01-01 00:00:00', '2009-01-01 00:00:01',\n",
       "               '2009-01-01 00:00:02', '2009-01-01 00:00:03',\n",
       "               '2009-01-01 00:00:04', '2009-01-01 00:00:05',\n",
       "               '2009-01-01 00:00:06', '2009-01-01 00:00:07',\n",
       "               '2009-01-01 00:00:08', '2009-01-01 00:00:09',\n",
       "               ...\n",
       "               '2009-01-01 23:59:49', '2009-01-01 23:59:50',\n",
       "               '2009-01-01 23:59:51', '2009-01-01 23:59:52',\n",
       "               '2009-01-01 23:59:53', '2009-01-01 23:59:54',\n",
       "               '2009-01-01 23:59:55', '2009-01-01 23:59:56',\n",
       "               '2009-01-01 23:59:57', '2009-01-01 23:59:58'],\n",
       "              dtype='datetime64[ns]', length=80594, freq=None))>),\n",
       "              (longitude(t),\n",
       "               <function longitude(t=DatetimeIndex(['2009-01-01 00:00:00', '2009-01-01 00:00:01',\n",
       "               '2009-01-01 00:00:02', '2009-01-01 00:00:03',\n",
       "               '2009-01-01 00:00:04', '2009-01-01 00:00:05',\n",
       "               '2009-01-01 00:00:06', '2009-01-01 00:00:07',\n",
       "               '2009-01-01 00:00:08', '2009-01-01 00:00:09',\n",
       "               ...\n",
       "               '2009-01-01 23:59:49', '2009-01-01 23:59:50',\n",
       "               '2009-01-01 23:59:51', '2009-01-01 23:59:52',\n",
       "               '2009-01-01 23:59:53', '2009-01-01 23:59:54',\n",
       "               '2009-01-01 23:59:55', '2009-01-01 23:59:56',\n",
       "               '2009-01-01 23:59:57', '2009-01-01 23:59:58'],\n",
       "              dtype='datetime64[ns]', length=80594, freq=None))>),\n",
       "              (longitude,\n",
       "               <function longitude(t=DatetimeIndex(['2009-01-01 00:00:00', '2009-01-01 00:00:01',\n",
       "               '2009-01-01 00:00:02', '2009-01-01 00:00:03',\n",
       "               '2009-01-01 00:00:04', '2009-01-01 00:00:05',\n",
       "               '2009-01-01 00:00:06', '2009-01-01 00:00:07',\n",
       "               '2009-01-01 00:00:08', '2009-01-01 00:00:09',\n",
       "               ...\n",
       "               '2009-01-01 23:59:49', '2009-01-01 23:59:50',\n",
       "               '2009-01-01 23:59:51', '2009-01-01 23:59:52',\n",
       "               '2009-01-01 23:59:53', '2009-01-01 23:59:54',\n",
       "               '2009-01-01 23:59:55', '2009-01-01 23:59:56',\n",
       "               '2009-01-01 23:59:57', '2009-01-01 23:59:58'],\n",
       "              dtype='datetime64[ns]', length=80594, freq=None))>),\n",
       "              (altitude(t),\n",
       "               <function altitude(t=DatetimeIndex(['2009-01-01 00:00:00', '2009-01-01 00:00:01',\n",
       "               '2009-01-01 00:00:02', '2009-01-01 00:00:03',\n",
       "               '2009-01-01 00:00:04', '2009-01-01 00:00:05',\n",
       "               '2009-01-01 00:00:06', '2009-01-01 00:00:07',\n",
       "               '2009-01-01 00:00:08', '2009-01-01 00:00:09',\n",
       "               ...\n",
       "               '2009-01-01 23:59:49', '2009-01-01 23:59:50',\n",
       "               '2009-01-01 23:59:51', '2009-01-01 23:59:52',\n",
       "               '2009-01-01 23:59:53', '2009-01-01 23:59:54',\n",
       "               '2009-01-01 23:59:55', '2009-01-01 23:59:56',\n",
       "               '2009-01-01 23:59:57', '2009-01-01 23:59:58'],\n",
       "              dtype='datetime64[ns]', length=80594, freq=None))>),\n",
       "              (altitude,\n",
       "               <function altitude(t=DatetimeIndex(['2009-01-01 00:00:00', '2009-01-01 00:00:01',\n",
       "               '2009-01-01 00:00:02', '2009-01-01 00:00:03',\n",
       "               '2009-01-01 00:00:04', '2009-01-01 00:00:05',\n",
       "               '2009-01-01 00:00:06', '2009-01-01 00:00:07',\n",
       "               '2009-01-01 00:00:08', '2009-01-01 00:00:09',\n",
       "               ...\n",
       "               '2009-01-01 23:59:49', '2009-01-01 23:59:50',\n",
       "               '2009-01-01 23:59:51', '2009-01-01 23:59:52',\n",
       "               '2009-01-01 23:59:53', '2009-01-01 23:59:54',\n",
       "               '2009-01-01 23:59:55', '2009-01-01 23:59:56',\n",
       "               '2009-01-01 23:59:57', '2009-01-01 23:59:58'],\n",
       "              dtype='datetime64[ns]', length=80594, freq=None))>),\n",
       "              (dB_zon(t),\n",
       "               <function dB_zon(t=DatetimeIndex(['2009-01-01 00:00:00', '2009-01-01 00:00:01',\n",
       "               '2009-01-01 00:00:02', '2009-01-01 00:00:03',\n",
       "               '2009-01-01 00:00:04', '2009-01-01 00:00:05',\n",
       "               '2009-01-01 00:00:06', '2009-01-01 00:00:07',\n",
       "               '2009-01-01 00:00:08', '2009-01-01 00:00:09',\n",
       "               ...\n",
       "               '2009-01-01 23:59:49', '2009-01-01 23:59:50',\n",
       "               '2009-01-01 23:59:51', '2009-01-01 23:59:52',\n",
       "               '2009-01-01 23:59:53', '2009-01-01 23:59:54',\n",
       "               '2009-01-01 23:59:55', '2009-01-01 23:59:56',\n",
       "               '2009-01-01 23:59:57', '2009-01-01 23:59:58'],\n",
       "              dtype='datetime64[ns]', length=80594, freq=None))>),\n",
       "              (dB_zon,\n",
       "               <function dB_zon(t=DatetimeIndex(['2009-01-01 00:00:00', '2009-01-01 00:00:01',\n",
       "               '2009-01-01 00:00:02', '2009-01-01 00:00:03',\n",
       "               '2009-01-01 00:00:04', '2009-01-01 00:00:05',\n",
       "               '2009-01-01 00:00:06', '2009-01-01 00:00:07',\n",
       "               '2009-01-01 00:00:08', '2009-01-01 00:00:09',\n",
       "               ...\n",
       "               '2009-01-01 23:59:49', '2009-01-01 23:59:50',\n",
       "               '2009-01-01 23:59:51', '2009-01-01 23:59:52',\n",
       "               '2009-01-01 23:59:53', '2009-01-01 23:59:54',\n",
       "               '2009-01-01 23:59:55', '2009-01-01 23:59:56',\n",
       "               '2009-01-01 23:59:57', '2009-01-01 23:59:58'],\n",
       "              dtype='datetime64[ns]', length=80594, freq=None))>),\n",
       "              (dB_mer(t),\n",
       "               <function dB_mer(t=DatetimeIndex(['2009-01-01 00:00:00', '2009-01-01 00:00:01',\n",
       "               '2009-01-01 00:00:02', '2009-01-01 00:00:03',\n",
       "               '2009-01-01 00:00:04', '2009-01-01 00:00:05',\n",
       "               '2009-01-01 00:00:06', '2009-01-01 00:00:07',\n",
       "               '2009-01-01 00:00:08', '2009-01-01 00:00:09',\n",
       "               ...\n",
       "               '2009-01-01 23:59:49', '2009-01-01 23:59:50',\n",
       "               '2009-01-01 23:59:51', '2009-01-01 23:59:52',\n",
       "               '2009-01-01 23:59:53', '2009-01-01 23:59:54',\n",
       "               '2009-01-01 23:59:55', '2009-01-01 23:59:56',\n",
       "               '2009-01-01 23:59:57', '2009-01-01 23:59:58'],\n",
       "              dtype='datetime64[ns]', length=80594, freq=None))>),\n",
       "              (dB_mer,\n",
       "               <function dB_mer(t=DatetimeIndex(['2009-01-01 00:00:00', '2009-01-01 00:00:01',\n",
       "               '2009-01-01 00:00:02', '2009-01-01 00:00:03',\n",
       "               '2009-01-01 00:00:04', '2009-01-01 00:00:05',\n",
       "               '2009-01-01 00:00:06', '2009-01-01 00:00:07',\n",
       "               '2009-01-01 00:00:08', '2009-01-01 00:00:09',\n",
       "               ...\n",
       "               '2009-01-01 23:59:49', '2009-01-01 23:59:50',\n",
       "               '2009-01-01 23:59:51', '2009-01-01 23:59:52',\n",
       "               '2009-01-01 23:59:53', '2009-01-01 23:59:54',\n",
       "               '2009-01-01 23:59:55', '2009-01-01 23:59:56',\n",
       "               '2009-01-01 23:59:57', '2009-01-01 23:59:58'],\n",
       "              dtype='datetime64[ns]', length=80594, freq=None))>),\n",
       "              (dB_par(t),\n",
       "               <function dB_par(t=DatetimeIndex(['2009-01-01 00:00:00', '2009-01-01 00:00:01',\n",
       "               '2009-01-01 00:00:02', '2009-01-01 00:00:03',\n",
       "               '2009-01-01 00:00:04', '2009-01-01 00:00:05',\n",
       "               '2009-01-01 00:00:06', '2009-01-01 00:00:07',\n",
       "               '2009-01-01 00:00:08', '2009-01-01 00:00:09',\n",
       "               ...\n",
       "               '2009-01-01 23:59:49', '2009-01-01 23:59:50',\n",
       "               '2009-01-01 23:59:51', '2009-01-01 23:59:52',\n",
       "               '2009-01-01 23:59:53', '2009-01-01 23:59:54',\n",
       "               '2009-01-01 23:59:55', '2009-01-01 23:59:56',\n",
       "               '2009-01-01 23:59:57', '2009-01-01 23:59:58'],\n",
       "              dtype='datetime64[ns]', length=80594, freq=None))>),\n",
       "              (dB_par,\n",
       "               <function dB_par(t=DatetimeIndex(['2009-01-01 00:00:00', '2009-01-01 00:00:01',\n",
       "               '2009-01-01 00:00:02', '2009-01-01 00:00:03',\n",
       "               '2009-01-01 00:00:04', '2009-01-01 00:00:05',\n",
       "               '2009-01-01 00:00:06', '2009-01-01 00:00:07',\n",
       "               '2009-01-01 00:00:08', '2009-01-01 00:00:09',\n",
       "               ...\n",
       "               '2009-01-01 23:59:49', '2009-01-01 23:59:50',\n",
       "               '2009-01-01 23:59:51', '2009-01-01 23:59:52',\n",
       "               '2009-01-01 23:59:53', '2009-01-01 23:59:54',\n",
       "               '2009-01-01 23:59:55', '2009-01-01 23:59:56',\n",
       "               '2009-01-01 23:59:57', '2009-01-01 23:59:58'],\n",
       "              dtype='datetime64[ns]', length=80594, freq=None))>),\n",
       "              (year(t),\n",
       "               <function year(t=DatetimeIndex(['2009-01-01 00:00:00', '2009-01-01 00:00:01',\n",
       "               '2009-01-01 00:00:02', '2009-01-01 00:00:03',\n",
       "               '2009-01-01 00:00:04', '2009-01-01 00:00:05',\n",
       "               '2009-01-01 00:00:06', '2009-01-01 00:00:07',\n",
       "               '2009-01-01 00:00:08', '2009-01-01 00:00:09',\n",
       "               ...\n",
       "               '2009-01-01 23:59:49', '2009-01-01 23:59:50',\n",
       "               '2009-01-01 23:59:51', '2009-01-01 23:59:52',\n",
       "               '2009-01-01 23:59:53', '2009-01-01 23:59:54',\n",
       "               '2009-01-01 23:59:55', '2009-01-01 23:59:56',\n",
       "               '2009-01-01 23:59:57', '2009-01-01 23:59:58'],\n",
       "              dtype='datetime64[ns]', length=80594, freq=None))>),\n",
       "              (year,\n",
       "               <function year(t=DatetimeIndex(['2009-01-01 00:00:00', '2009-01-01 00:00:01',\n",
       "               '2009-01-01 00:00:02', '2009-01-01 00:00:03',\n",
       "               '2009-01-01 00:00:04', '2009-01-01 00:00:05',\n",
       "               '2009-01-01 00:00:06', '2009-01-01 00:00:07',\n",
       "               '2009-01-01 00:00:08', '2009-01-01 00:00:09',\n",
       "               ...\n",
       "               '2009-01-01 23:59:49', '2009-01-01 23:59:50',\n",
       "               '2009-01-01 23:59:51', '2009-01-01 23:59:52',\n",
       "               '2009-01-01 23:59:53', '2009-01-01 23:59:54',\n",
       "               '2009-01-01 23:59:55', '2009-01-01 23:59:56',\n",
       "               '2009-01-01 23:59:57', '2009-01-01 23:59:58'],\n",
       "              dtype='datetime64[ns]', length=80594, freq=None))>),\n",
       "              (dayofyear(t),\n",
       "               <function dayofyear(t=DatetimeIndex(['2009-01-01 00:00:00', '2009-01-01 00:00:01',\n",
       "               '2009-01-01 00:00:02', '2009-01-01 00:00:03',\n",
       "               '2009-01-01 00:00:04', '2009-01-01 00:00:05',\n",
       "               '2009-01-01 00:00:06', '2009-01-01 00:00:07',\n",
       "               '2009-01-01 00:00:08', '2009-01-01 00:00:09',\n",
       "               ...\n",
       "               '2009-01-01 23:59:49', '2009-01-01 23:59:50',\n",
       "               '2009-01-01 23:59:51', '2009-01-01 23:59:52',\n",
       "               '2009-01-01 23:59:53', '2009-01-01 23:59:54',\n",
       "               '2009-01-01 23:59:55', '2009-01-01 23:59:56',\n",
       "               '2009-01-01 23:59:57', '2009-01-01 23:59:58'],\n",
       "              dtype='datetime64[ns]', length=80594, freq=None))>),\n",
       "              (dayofyear,\n",
       "               <function dayofyear(t=DatetimeIndex(['2009-01-01 00:00:00', '2009-01-01 00:00:01',\n",
       "               '2009-01-01 00:00:02', '2009-01-01 00:00:03',\n",
       "               '2009-01-01 00:00:04', '2009-01-01 00:00:05',\n",
       "               '2009-01-01 00:00:06', '2009-01-01 00:00:07',\n",
       "               '2009-01-01 00:00:08', '2009-01-01 00:00:09',\n",
       "               ...\n",
       "               '2009-01-01 23:59:49', '2009-01-01 23:59:50',\n",
       "               '2009-01-01 23:59:51', '2009-01-01 23:59:52',\n",
       "               '2009-01-01 23:59:53', '2009-01-01 23:59:54',\n",
       "               '2009-01-01 23:59:55', '2009-01-01 23:59:56',\n",
       "               '2009-01-01 23:59:57', '2009-01-01 23:59:58'],\n",
       "              dtype='datetime64[ns]', length=80594, freq=None))>),\n",
       "              (B_flag(t),\n",
       "               <function B_flag(t=DatetimeIndex(['2009-01-01 00:00:00', '2009-01-01 00:00:01',\n",
       "               '2009-01-01 00:00:02', '2009-01-01 00:00:03',\n",
       "               '2009-01-01 00:00:04', '2009-01-01 00:00:05',\n",
       "               '2009-01-01 00:00:06', '2009-01-01 00:00:07',\n",
       "               '2009-01-01 00:00:08', '2009-01-01 00:00:09',\n",
       "               ...\n",
       "               '2009-01-01 23:59:49', '2009-01-01 23:59:50',\n",
       "               '2009-01-01 23:59:51', '2009-01-01 23:59:52',\n",
       "               '2009-01-01 23:59:53', '2009-01-01 23:59:54',\n",
       "               '2009-01-01 23:59:55', '2009-01-01 23:59:56',\n",
       "               '2009-01-01 23:59:57', '2009-01-01 23:59:58'],\n",
       "              dtype='datetime64[ns]', length=80594, freq=None))>),\n",
       "              (B_flag,\n",
       "               <function B_flag(t=DatetimeIndex(['2009-01-01 00:00:00', '2009-01-01 00:00:01',\n",
       "               '2009-01-01 00:00:02', '2009-01-01 00:00:03',\n",
       "               '2009-01-01 00:00:04', '2009-01-01 00:00:05',\n",
       "               '2009-01-01 00:00:06', '2009-01-01 00:00:07',\n",
       "               '2009-01-01 00:00:08', '2009-01-01 00:00:09',\n",
       "               ...\n",
       "               '2009-01-01 23:59:49', '2009-01-01 23:59:50',\n",
       "               '2009-01-01 23:59:51', '2009-01-01 23:59:52',\n",
       "               '2009-01-01 23:59:53', '2009-01-01 23:59:54',\n",
       "               '2009-01-01 23:59:55', '2009-01-01 23:59:56',\n",
       "               '2009-01-01 23:59:57', '2009-01-01 23:59:58'],\n",
       "              dtype='datetime64[ns]', length=80594, freq=None))>)])"
      ]
     },
     "execution_count": 4,
     "metadata": {},
     "output_type": "execute_result"
    }
   ],
   "source": [
    "import pandas as pd\n",
    "\n",
    "pki = Pysat_Kamodo('2009, 1, 1', # Pysat_Kamodo allows string dates\n",
    "                  platform = 'cnofs', # pysat keyword\n",
    "                  name='vefi', # pysat keyword\n",
    "                  tag='dc_b',# pysat keyword\n",
    "                  )\n",
    "pki"
   ]
  },
  {
   "cell_type": "markdown",
   "metadata": {},
   "source": [
    "The above Kamodo instance shows all available variables from the pysat `cnofs vefi` instrument together with units. The left-hand side of these equations represents the variables loaded by pysat. The right-hand side $\\lambda(t)$ expressions mean that there is some time interpolator defined for these variables that is not in closed form. More information for each variable, including the instrument's citation info, can be read from the variable docs:"
   ]
  },
  {
   "cell_type": "code",
   "execution_count": 6,
   "metadata": {},
   "outputs": [
    {
     "name": "stdout",
     "output_type": "stream",
     "text": [
      "Help on function B_flag:\n",
      "\n",
      "B_flag(t=DatetimeIndex(['2009-01-01 00:00:00', '2009-01-01 00:00:01',\n",
      "               '2009-01-01 00:00:02', '2009-01-01 00:00:03',\n",
      "               '2009-01-01 00:00:04', '2009-01-01 00:00:05',\n",
      "               '2009-01-01 00:00:06', '2009-01-01 00:00:07',\n",
      "               '2009-01-01 00:00:08', '2009-01-01 00:00:09',\n",
      "               ...\n",
      "               '2009-01-01 23:59:49', '2009-01-01 23:59:50',\n",
      "               '2009-01-01 23:59:51', '2009-01-01 23:59:52',\n",
      "               '2009-01-01 23:59:53', '2009-01-01 23:59:54',\n",
      "               '2009-01-01 23:59:55', '2009-01-01 23:59:56',\n",
      "               '2009-01-01 23:59:57', '2009-01-01 23:59:58'],\n",
      "              dtype='datetime64[ns]', length=80594, freq=None))\n",
      "    B_flag time interpolator\n",
      "    \n",
      "    parameters:\n",
      "    t: datetime series or list\n",
      "    \n",
      "    returns: B_flag [] pandas series\n",
      "    \n",
      "    \n",
      "    citation: Supports the Vector Electric Field Instrument (VEFI)\n",
      "    onboard the Communication and Navigation Outage Forecasting\n",
      "    System (C/NOFS) satellite. Downloads data from the\n",
      "    NASA Coordinated Data Analysis Web (CDAWeb).\n",
      "    \n",
      "    Description from CDAWeb:\n",
      "    \n",
      "    The DC vector magnetometer on the CNOFS spacecraft is a three axis, fluxgate\n",
      "    sensor with active thermal control situated on a 0.6m boom.  This magnetometer\n",
      "    measures the Earth's magnetic field using 16 bit A/D converters at 1 sample per\n",
      "    sec with a range of .. 45,000 nT.  Its primary objective on the CNOFS\n",
      "    spacecraft is to enable an accurate V x B measurement along the spacecraft\n",
      "    trajectory.  In order to provide an in-flight calibration of the magnetic field\n",
      "    data, we compare the most recent POMME model (the POtsdam Magnetic Model of the\n",
      "    Earth, http://geomag.org/models/pomme5.html) with the actual magnetometer\n",
      "    measurements to help determine a set of calibration parameters for the gains,\n",
      "    offsets, and non-orthogonality matrix of the sensor axes.  The calibrated\n",
      "    magnetic field measurements are provided in the data file here. The VEFI\n",
      "    magnetic field data file currently contains the following variables:\n",
      "    B_north   Magnetic field in the north direction\n",
      "    B_up      Magnetic field in the up direction\n",
      "    B_west    Magnetic field in the west direction\n",
      "    \n",
      "    The data is PRELIMINARY, and as such, is intended for BROWSE PURPOSES ONLY.\n",
      "    \n",
      "    A brief discussion of the C/NOFS mission and instruments can be found at\n",
      "    de La Beaujardière, O., et al. (2004), C/NOFS: A mission to forecast\n",
      "    scintillations, J. Atmos. Sol. Terr. Phys., 66, 1573–1591,\n",
      "    doi:10.1016/j.jastp.2004.07.030.\n",
      "    \n",
      "    Parameters\n",
      "    ----------\n",
      "    platform : string\n",
      "        'cnofs'\n",
      "    name : string\n",
      "        'vefi'\n",
      "    tag : string\n",
      "        Select measurement type, one of {'dc_b'}\n",
      "    sat_id : string\n",
      "        None supported\n",
      "    \n",
      "    Note\n",
      "    ----\n",
      "    - tag = 'dc_b': 1 second DC magnetometer data\n",
      "    \n",
      "    Warnings\n",
      "    --------\n",
      "    - The data is PRELIMINARY, and as such, is intended for BROWSE PURPOSES ONLY.\n",
      "    - Limited cleaning routine.\n",
      "    - Module not written by VEFI team.\n",
      "\n"
     ]
    }
   ],
   "source": [
    "help(pki.B_flag)"
   ]
  },
  {
   "cell_type": "markdown",
   "metadata": {},
   "source": [
    "## Interpolation\n",
    "These \"Kamodofied\" variables support automatic time interpolation. First let's specify a few arbitrary moments in time."
   ]
  },
  {
   "cell_type": "code",
   "execution_count": 8,
   "metadata": {},
   "outputs": [],
   "source": [
    "t1 = pd.datetime(2009, 1, 1, 3, 39, 45)\n",
    "t2 = pd.datetime(2009, 1, 1, 3, 42, 33)\n",
    "t3 = pd.datetime(2009, 1, 1, 3, 51, 10)\n",
    "times = [t1, t2, t3]"
   ]
  },
  {
   "cell_type": "markdown",
   "metadata": {},
   "source": [
    "To interpolate a given variable at these times, simply call the variable like you would a function:"
   ]
  },
  {
   "cell_type": "code",
   "execution_count": 9,
   "metadata": {},
   "outputs": [
    {
     "data": {
      "text/plain": [
       "2009-01-01 03:39:45    12086.362305\n",
       "2009-01-01 03:42:33    14458.384766\n",
       "2009-01-01 03:51:10    14879.630859\n",
       "Name: B_up, dtype: float32"
      ]
     },
     "execution_count": 9,
     "metadata": {},
     "output_type": "execute_result"
    }
   ],
   "source": [
    "pki.B_up(times)"
   ]
  },
  {
   "cell_type": "markdown",
   "metadata": {},
   "source": [
    "Our Kamodo object uses the native instrument time as a default parameter. This means we can easily retrieve the original raw data by not specifying a time:"
   ]
  },
  {
   "cell_type": "code",
   "execution_count": 10,
   "metadata": {},
   "outputs": [
    {
     "data": {
      "text/plain": [
       "2009-01-01 00:00:00   -3984.774658\n",
       "2009-01-01 00:00:01   -3966.702637\n",
       "2009-01-01 00:00:02   -3951.631592\n",
       "2009-01-01 00:00:03   -3936.454102\n",
       "2009-01-01 00:00:04   -3921.183594\n",
       "Name: B_up, dtype: float32"
      ]
     },
     "execution_count": 10,
     "metadata": {},
     "output_type": "execute_result"
    }
   ],
   "source": [
    "# head pandas method just shows the first 5 results\n",
    "pki.B_up().head()"
   ]
  },
  {
   "cell_type": "markdown",
   "metadata": {},
   "source": [
    "## Visualization"
   ]
  },
  {
   "cell_type": "markdown",
   "metadata": {},
   "source": [
    "Kamodo uses plotly for visualization and easy web deployment. The default time allows Kamodo to determine an appropriate range for these quick-look graphics. "
   ]
  },
  {
   "cell_type": "code",
   "execution_count": 7,
   "metadata": {},
   "outputs": [],
   "source": [
    "import plotly.io as pio\n",
    "fig = pki.plot('B_up')\n",
    "pio.write_image(fig, 'figure1.svg')"
   ]
  },
  {
   "cell_type": "markdown",
   "metadata": {},
   "source": [
    "![fig1](figure1.svg)"
   ]
  },
  {
   "cell_type": "markdown",
   "metadata": {},
   "source": [
    "## Interactive plotting\n",
    "\n",
    "To plot interacvtively in the notebook use plotly's `iplot` and `plot` tools."
   ]
  },
  {
   "cell_type": "code",
   "execution_count": null,
   "metadata": {},
   "outputs": [],
   "source": [
    "from plotly.offline import init_notebook_mode, plot, iplot\n",
    "init_notebook_mode(connected = True)\n",
    "\n",
    "# renders in notebook cell\n",
    "iplot(fig)\n",
    "\n",
    "# saves to html and opens in new browser tab\n",
    "plot(fig)"
   ]
  },
  {
   "cell_type": "markdown",
   "metadata": {},
   "source": [
    "!!! note\n",
    "    Writing image to file requires plotly-orca (`conda install -c plotly plotly-orca`) and psutil (`pip install psutil`)"
   ]
  },
  {
   "cell_type": "markdown",
   "metadata": {},
   "source": [
    "## PyHC standards\n",
    "\n",
    "`Pysat_Kamodo` objects have `data` and `meta` attributes, in keeping with the Python-in-Heliophysics Community standards. These are not to be confused with pysat's `data` and `meta` attributes, which are stored in `Pysat_Kamodo._instrument.meta` and `Pysat_Kamodo._instrument.data`, respectively."
   ]
  },
  {
   "cell_type": "markdown",
   "metadata": {},
   "source": [
    "## Pysat_Kamodo `meta` attributes"
   ]
  },
  {
   "cell_type": "markdown",
   "metadata": {},
   "source": [
    "The `meta` attribute illustrates Kamodo's minimalistic view of the world: under the hood, Kamodo uses the symbolic programing library [Sympy](https://docs.sympy.org/0.7.0/tutorial.html#introduction), so it only needs to keep track of symbols and units."
   ]
  },
  {
   "cell_type": "code",
   "execution_count": 11,
   "metadata": {},
   "outputs": [
    {
     "data": {
      "text/html": [
       "<div>\n",
       "<style scoped>\n",
       "    .dataframe tbody tr th:only-of-type {\n",
       "        vertical-align: middle;\n",
       "    }\n",
       "\n",
       "    .dataframe tbody tr th {\n",
       "        vertical-align: top;\n",
       "    }\n",
       "\n",
       "    .dataframe thead th {\n",
       "        text-align: right;\n",
       "    }\n",
       "</style>\n",
       "<table border=\"1\" class=\"dataframe\">\n",
       "  <thead>\n",
       "    <tr style=\"text-align: right;\">\n",
       "      <th></th>\n",
       "      <th>lhs</th>\n",
       "      <th>rhs</th>\n",
       "      <th>symbol</th>\n",
       "      <th>units</th>\n",
       "    </tr>\n",
       "  </thead>\n",
       "  <tbody>\n",
       "    <tr>\n",
       "      <th>B_north(t)</th>\n",
       "      <td>B_north</td>\n",
       "      <td>None</td>\n",
       "      <td>B_north(t)</td>\n",
       "      <td>nT</td>\n",
       "    </tr>\n",
       "    <tr>\n",
       "      <th>B_up(t)</th>\n",
       "      <td>B_up</td>\n",
       "      <td>None</td>\n",
       "      <td>B_up(t)</td>\n",
       "      <td>nT</td>\n",
       "    </tr>\n",
       "    <tr>\n",
       "      <th>B_west(t)</th>\n",
       "      <td>B_west</td>\n",
       "      <td>None</td>\n",
       "      <td>B_west(t)</td>\n",
       "      <td>nT</td>\n",
       "    </tr>\n",
       "    <tr>\n",
       "      <th>B_IGRF_north(t)</th>\n",
       "      <td>B_IGRF_north</td>\n",
       "      <td>None</td>\n",
       "      <td>B_IGRF_north(t)</td>\n",
       "      <td>nT</td>\n",
       "    </tr>\n",
       "    <tr>\n",
       "      <th>B_IGRF_up(t)</th>\n",
       "      <td>B_IGRF_up</td>\n",
       "      <td>None</td>\n",
       "      <td>B_IGRF_up(t)</td>\n",
       "      <td>nT</td>\n",
       "    </tr>\n",
       "    <tr>\n",
       "      <th>B_IGRF_west(t)</th>\n",
       "      <td>B_IGRF_west</td>\n",
       "      <td>None</td>\n",
       "      <td>B_IGRF_west(t)</td>\n",
       "      <td>nT</td>\n",
       "    </tr>\n",
       "    <tr>\n",
       "      <th>latitude(t)</th>\n",
       "      <td>latitude</td>\n",
       "      <td>None</td>\n",
       "      <td>latitude(t)</td>\n",
       "      <td>degrees</td>\n",
       "    </tr>\n",
       "    <tr>\n",
       "      <th>longitude(t)</th>\n",
       "      <td>longitude</td>\n",
       "      <td>None</td>\n",
       "      <td>longitude(t)</td>\n",
       "      <td>degrees</td>\n",
       "    </tr>\n",
       "    <tr>\n",
       "      <th>altitude(t)</th>\n",
       "      <td>altitude</td>\n",
       "      <td>None</td>\n",
       "      <td>altitude(t)</td>\n",
       "      <td>km</td>\n",
       "    </tr>\n",
       "    <tr>\n",
       "      <th>dB_zon(t)</th>\n",
       "      <td>dB_zon</td>\n",
       "      <td>None</td>\n",
       "      <td>dB_zon(t)</td>\n",
       "      <td>nT</td>\n",
       "    </tr>\n",
       "    <tr>\n",
       "      <th>dB_mer(t)</th>\n",
       "      <td>dB_mer</td>\n",
       "      <td>None</td>\n",
       "      <td>dB_mer(t)</td>\n",
       "      <td>nT</td>\n",
       "    </tr>\n",
       "    <tr>\n",
       "      <th>dB_par(t)</th>\n",
       "      <td>dB_par</td>\n",
       "      <td>None</td>\n",
       "      <td>dB_par(t)</td>\n",
       "      <td>nT</td>\n",
       "    </tr>\n",
       "    <tr>\n",
       "      <th>year(t)</th>\n",
       "      <td>year</td>\n",
       "      <td>None</td>\n",
       "      <td>year(t)</td>\n",
       "      <td></td>\n",
       "    </tr>\n",
       "    <tr>\n",
       "      <th>dayofyear(t)</th>\n",
       "      <td>dayofyear</td>\n",
       "      <td>None</td>\n",
       "      <td>dayofyear(t)</td>\n",
       "      <td></td>\n",
       "    </tr>\n",
       "    <tr>\n",
       "      <th>B_flag(t)</th>\n",
       "      <td>B_flag</td>\n",
       "      <td>None</td>\n",
       "      <td>B_flag(t)</td>\n",
       "      <td></td>\n",
       "    </tr>\n",
       "  </tbody>\n",
       "</table>\n",
       "</div>"
      ],
      "text/plain": [
       "                          lhs   rhs           symbol    units\n",
       "B_north(t)            B_north  None       B_north(t)       nT\n",
       "B_up(t)                  B_up  None          B_up(t)       nT\n",
       "B_west(t)              B_west  None        B_west(t)       nT\n",
       "B_IGRF_north(t)  B_IGRF_north  None  B_IGRF_north(t)       nT\n",
       "B_IGRF_up(t)        B_IGRF_up  None     B_IGRF_up(t)       nT\n",
       "B_IGRF_west(t)    B_IGRF_west  None   B_IGRF_west(t)       nT\n",
       "latitude(t)          latitude  None      latitude(t)  degrees\n",
       "longitude(t)        longitude  None     longitude(t)  degrees\n",
       "altitude(t)          altitude  None      altitude(t)       km\n",
       "dB_zon(t)              dB_zon  None        dB_zon(t)       nT\n",
       "dB_mer(t)              dB_mer  None        dB_mer(t)       nT\n",
       "dB_par(t)              dB_par  None        dB_par(t)       nT\n",
       "year(t)                  year  None          year(t)         \n",
       "dayofyear(t)        dayofyear  None     dayofyear(t)         \n",
       "B_flag(t)              B_flag  None        B_flag(t)         "
      ]
     },
     "execution_count": 11,
     "metadata": {},
     "output_type": "execute_result"
    }
   ],
   "source": [
    "pki.meta"
   ]
  },
  {
   "cell_type": "markdown",
   "metadata": {},
   "source": [
    "Kamodo also has some book-keeping metadata tied to indvidual variables:"
   ]
  },
  {
   "cell_type": "code",
   "execution_count": 12,
   "metadata": {},
   "outputs": [
    {
     "data": {
      "text/plain": [
       "{'units': '',\n",
       " 'citation': \"Supports the Vector Electric Field Instrument (VEFI)\\nonboard the Communication and Navigation Outage Forecasting\\nSystem (C/NOFS) satellite. Downloads data from the\\nNASA Coordinated Data Analysis Web (CDAWeb).\\n\\nDescription from CDAWeb:\\n\\nThe DC vector magnetometer on the CNOFS spacecraft is a three axis, fluxgate\\nsensor with active thermal control situated on a 0.6m boom.  This magnetometer\\nmeasures the Earth's magnetic field using 16 bit A/D converters at 1 sample per\\nsec with a range of .. 45,000 nT.  Its primary objective on the CNOFS\\nspacecraft is to enable an accurate V x B measurement along the spacecraft\\ntrajectory.  In order to provide an in-flight calibration of the magnetic field\\ndata, we compare the most recent POMME model (the POtsdam Magnetic Model of the\\nEarth, http://geomag.org/models/pomme5.html) with the actual magnetometer\\nmeasurements to help determine a set of calibration parameters for the gains,\\noffsets, and non-orthogonality matrix of the sensor axes.  The calibrated\\nmagnetic field measurements are provided in the data file here. The VEFI\\nmagnetic field data file currently contains the following variables:\\nB_north   Magnetic field in the north direction\\nB_up      Magnetic field in the up direction\\nB_west    Magnetic field in the west direction\\n\\nThe data is PRELIMINARY, and as such, is intended for BROWSE PURPOSES ONLY.\\n\\nA brief discussion of the C/NOFS mission and instruments can be found at\\nde La Beaujardière, O., et al. (2004), C/NOFS: A mission to forecast\\nscintillations, J. Atmos. Sol. Terr. Phys., 66, 1573–1591,\\ndoi:10.1016/j.jastp.2004.07.030.\\n\\nParameters\\n----------\\nplatform : string\\n    'cnofs'\\nname : string\\n    'vefi'\\ntag : string\\n    Select measurement type, one of {'dc_b'}\\nsat_id : string\\n    None supported\\n\\nNote\\n----\\n- tag = 'dc_b': 1 second DC magnetometer data\\n\\nWarnings\\n--------\\n- The data is PRELIMINARY, and as such, is intended for BROWSE PURPOSES ONLY.\\n- Limited cleaning routine.\\n- Module not written by VEFI team.\\n\\n\",\n",
       " 'equation': None,\n",
       " 'hidden_args': []}"
      ]
     },
     "execution_count": 12,
     "metadata": {},
     "output_type": "execute_result"
    }
   ],
   "source": [
    "pki.B_flag.meta"
   ]
  },
  {
   "cell_type": "markdown",
   "metadata": {},
   "source": [
    "## Pysat_Kamodo `data` attributes"
   ]
  },
  {
   "cell_type": "markdown",
   "metadata": {},
   "source": [
    "The high-level data attribute provides a dictionary-access to the underlying instrument data. Custom function data is also available here."
   ]
  },
  {
   "cell_type": "code",
   "execution_count": 18,
   "metadata": {},
   "outputs": [
    {
     "data": {
      "text/plain": [
       "2009-01-01 00:00:00    18440.412109\n",
       "2009-01-01 00:00:01    18437.386719\n",
       "2009-01-01 00:00:02    18433.964844\n",
       "2009-01-01 00:00:03    18430.533203\n",
       "2009-01-01 00:00:04    18427.074219\n",
       "Name: B_north, dtype: float32"
      ]
     },
     "execution_count": 18,
     "metadata": {},
     "output_type": "execute_result"
    }
   ],
   "source": [
    "pki.data['B_north'].head()"
   ]
  },
  {
   "cell_type": "markdown",
   "metadata": {},
   "source": [
    "The instrument data is also available at the variable level:"
   ]
  },
  {
   "cell_type": "code",
   "execution_count": 19,
   "metadata": {},
   "outputs": [
    {
     "data": {
      "text/plain": [
       "2009-01-01 00:00:00    18440.412109\n",
       "2009-01-01 00:00:01    18437.386719\n",
       "2009-01-01 00:00:02    18433.964844\n",
       "2009-01-01 00:00:03    18430.533203\n",
       "2009-01-01 00:00:04    18427.074219\n",
       "Name: B_north, dtype: float32"
      ]
     },
     "execution_count": 19,
     "metadata": {},
     "output_type": "execute_result"
    }
   ],
   "source": [
    "pki.B_north.data.head()"
   ]
  },
  {
   "cell_type": "markdown",
   "metadata": {},
   "source": [
    "In this case, these are the same as the instrument data. However, Kamodo variables can come from any Kamodo-compatible function or data source, not just pysat data. See Kamodo's documentation on [Kamodofication](https://ccmc.gsfc.nasa.gov/Kamodo/notebooks/Kamodo/#kamodofication) and the turorial on [Kamodofying Models](https://nbviewer.jupyter.org/github/asherp/Kamodo/blob/master/docs/notebooks/Kamodofying_Models.ipynb) for examples."
   ]
  }
 ],
 "metadata": {
  "kernelspec": {
   "display_name": "Python 3",
   "language": "python",
   "name": "python3"
  },
  "language_info": {
   "codemirror_mode": {
    "name": "ipython",
    "version": 3
   },
   "file_extension": ".py",
   "mimetype": "text/x-python",
   "name": "python",
   "nbconvert_exporter": "python",
   "pygments_lexer": "ipython3",
   "version": "3.7.3"
  }
 },
 "nbformat": 4,
 "nbformat_minor": 2
}
